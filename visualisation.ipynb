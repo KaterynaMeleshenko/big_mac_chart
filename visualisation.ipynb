{
 "cells": [
  {
   "cell_type": "code",
   "execution_count": null,
   "metadata": {},
   "outputs": [],
   "source": [
    "from calculations import big_mac_price_2024\n",
    "import matplotlib.pyplot as plt\n",
    "from ipywidgets import interact, widgets"
   ]
  },
  {
   "cell_type": "code",
   "execution_count": 1,
   "metadata": {},
   "outputs": [
    {
     "ename": "NameError",
     "evalue": "name 'interact' is not defined",
     "output_type": "error",
     "traceback": [
      "\u001b[0;31m---------------------------------------------------------------------------\u001b[0m",
      "\u001b[0;31mNameError\u001b[0m                                 Traceback (most recent call last)",
      "Input \u001b[0;32mIn [1]\u001b[0m, in \u001b[0;36m<cell line: 37>\u001b[0;34m()\u001b[0m\n\u001b[1;32m     34\u001b[0m     plt\u001b[38;5;241m.\u001b[39mshow()\n\u001b[1;32m     36\u001b[0m \u001b[38;5;66;03m# Create interactive widget\u001b[39;00m\n\u001b[0;32m---> 37\u001b[0m \u001b[43minteract\u001b[49m(plot_prices,\n\u001b[1;32m     38\u001b[0m          sort_column\u001b[38;5;241m=\u001b[39mwidgets\u001b[38;5;241m.\u001b[39mDropdown(options\u001b[38;5;241m=\u001b[39m[\u001b[38;5;124m'\u001b[39m\u001b[38;5;124mbig_mac_doll\u001b[39m\u001b[38;5;124m'\u001b[39m, \u001b[38;5;124m'\u001b[39m\u001b[38;5;124madj_doll\u001b[39m\u001b[38;5;124m'\u001b[39m, \u001b[38;5;124m'\u001b[39m\u001b[38;5;124mname\u001b[39m\u001b[38;5;124m'\u001b[39m], description\u001b[38;5;241m=\u001b[39m\u001b[38;5;124m'\u001b[39m\u001b[38;5;124mSort Value:\u001b[39m\u001b[38;5;124m'\u001b[39m)\n\u001b[1;32m     39\u001b[0m         )\n",
      "\u001b[0;31mNameError\u001b[0m: name 'interact' is not defined"
     ]
    }
   ],
   "source": [
    "def plot_prices(sort_column):\n",
    "    \n",
    "    # Sort the filtered data\n",
    "    if sort_column == 'name':\n",
    "        sorted_data = big_mac_price_2024.sort_values(by=sort_column, ascending=False)\n",
    "    else: sorted_data = big_mac_price_2024.sort_values(by=sort_column, ascending=True)\n",
    "\n",
    "    # Extract relevant columns\n",
    "    countries = sorted_data['name']\n",
    "    nominal_prices = sorted_data['big_mac_doll']  # Nominal prices in USD\n",
    "    adjusted_prices = sorted_data['adj_doll']  # Adjusted prices in USD\n",
    "\n",
    "    # Create figure and axis\n",
    "    fig, ax = plt.subplots(figsize=(10, 12)) \n",
    "\n",
    "    # Plot nominal prices\n",
    "    ax.plot(nominal_prices, range(len(countries)), marker='o', linestyle='', color='b', label='Nominal Price (USD)')\n",
    "\n",
    "    # Plot adjusted prices\n",
    "    ax.plot(adjusted_prices, range(len(countries)), marker='*', linestyle='', color='r', label='Adjusted Price (USD)')\n",
    "\n",
    "    # Add labels and title\n",
    "    ax.set_yticks(range(len(countries)))\n",
    "    ax.set_yticklabels(countries)\n",
    "    ax.set_xlabel('Price (USD)')\n",
    "    ax.set_title('Nominal vs Adjusted Prices')\n",
    "\n",
    "    ax.set_xticks(range(0, max(max(nominal_prices.astype(int)), max(adjusted_prices.astype(int))) + 1, 10))  # Adjust the step size as needed\n",
    "\n",
    "    # Add legend\n",
    "    ax.legend()\n",
    "\n",
    "    # Show plot\n",
    "    plt.show()\n",
    "\n",
    "# Create interactive widget\n",
    "interact(plot_prices,\n",
    "         sort_column=widgets.Dropdown(options=['big_mac_doll', 'adj_doll', 'name'], description='Sort Value:')\n",
    "        );\n"
   ]
  }
 ],
 "metadata": {
  "kernelspec": {
   "display_name": "Python 3",
   "language": "python",
   "name": "python3"
  },
  "language_info": {
   "codemirror_mode": {
    "name": "ipython",
    "version": 3
   },
   "file_extension": ".py",
   "mimetype": "text/x-python",
   "name": "python",
   "nbconvert_exporter": "python",
   "pygments_lexer": "ipython3",
   "version": "3.10.8"
  }
 },
 "nbformat": 4,
 "nbformat_minor": 2
}
