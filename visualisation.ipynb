{
 "cells": [
  {
   "cell_type": "code",
   "execution_count": 2,
   "metadata": {},
   "outputs": [],
   "source": [
    "from calculations import big_mac_price\n",
    "import matplotlib.pyplot as plt\n",
    "from ipywidgets import interact, widgets"
   ]
  },
  {
   "cell_type": "code",
   "execution_count": 3,
   "metadata": {},
   "outputs": [
    {
     "data": {
      "application/vnd.jupyter.widget-view+json": {
       "model_id": "064eb3dfd57d4e40ba0fb6f16b3ba1a8",
       "version_major": 2,
       "version_minor": 0
      },
      "text/plain": [
       "interactive(children=(Dropdown(description='Sort Value:', options=('big_mac_doll', 'adj_doll', 'name'), value=…"
      ]
     },
     "metadata": {},
     "output_type": "display_data"
    }
   ],
   "source": [
    "def plot_prices(sort_column):\n",
    "    \n",
    "    # Sort the filtered data\n",
    "    if sort_column == 'name':\n",
    "        sorted_data = big_mac_price.sort_values(by=sort_column, ascending=False)\n",
    "    else: sorted_data = big_mac_price.sort_values(by=sort_column, ascending=True)\n",
    "\n",
    "    # Extract relevant columns\n",
    "    countries = sorted_data['name']\n",
    "    nominal_prices = sorted_data['big_mac_doll']  # Nominal prices in USD\n",
    "    adjusted_prices = sorted_data['adj_doll']  # Adjusted prices in USD\n",
    "\n",
    "    # Create figure and axis\n",
    "    fig, ax = plt.subplots(figsize=(10, 12)) \n",
    "\n",
    "    # Plot nominal prices\n",
    "    ax.plot(nominal_prices, range(len(countries)), marker='o', linestyle='', color='b', label='Nominal Price (USD)')\n",
    "\n",
    "    # Plot adjusted prices\n",
    "    ax.plot(adjusted_prices, range(len(countries)), marker='*', linestyle='', color='r', label='Adjusted Price (USD)')\n",
    "\n",
    "    # Add labels and title\n",
    "    ax.set_yticks(range(len(countries)))\n",
    "    ax.set_yticklabels(countries)\n",
    "    ax.set_xlabel('Price (USD)')\n",
    "    ax.set_title('Nominal vs Adjusted Prices')\n",
    "\n",
    "    ax.set_xticks(range(0, max(max(nominal_prices.astype(int)), max(adjusted_prices.astype(int))) + 1, 10))  # Adjust the step size as needed\n",
    "\n",
    "    # Add legend\n",
    "    ax.legend()\n",
    "\n",
    "    # Show plot\n",
    "    plt.show()\n",
    "\n",
    "# Create interactive widget\n",
    "interact(plot_prices,\n",
    "         sort_column=widgets.Dropdown(options=['big_mac_doll', 'adj_doll', 'name'], description='Sort Value:')\n",
    "        );\n"
   ]
  }
 ],
 "metadata": {
  "kernelspec": {
   "display_name": "Python 3",
   "language": "python",
   "name": "python3"
  },
  "language_info": {
   "codemirror_mode": {
    "name": "ipython",
    "version": 3
   },
   "file_extension": ".py",
   "mimetype": "text/x-python",
   "name": "python",
   "nbconvert_exporter": "python",
   "pygments_lexer": "ipython3",
   "version": "3.10.8"
  }
 },
 "nbformat": 4,
 "nbformat_minor": 2
}
